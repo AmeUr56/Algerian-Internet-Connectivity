{
 "cells": [
  {
   "cell_type": "markdown",
   "id": "189f8f1f-b5f4-43c1-82f1-ba3c3fe7523e",
   "metadata": {},
   "source": [
    "# Key Insights"
   ]
  },
  {
   "cell_type": "markdown",
   "id": "0ded1226-72c1-4fff-a572-1f0c39d488c6",
   "metadata": {},
   "source": [
    "- **Mobile** internet is much better than the **fixed**.\n",
    "- **Internet Availability** has increased.\n",
    "- **Upload Speed** doesnt improved at all for **fixed** and improved for **mobile**.\n",
    "- **Download Speed** improved in 2020 and 2021 then fixed.\n",
    "- Algeria one of the worst countries in the world in internet speed and improvement."
   ]
  },
  {
   "cell_type": "markdown",
   "id": "8d373e3a-ffdf-43c9-a1a1-0ac7527fdcdf",
   "metadata": {},
   "source": [
    "# Conclusion"
   ]
  },
  {
   "cell_type": "markdown",
   "id": "74440025-6ca0-43e3-bdd5-18f2ccc498a6",
   "metadata": {},
   "source": [
    "Algeria's internet infrastructure has improved a little, but it's still far behind other countries. Mobile internet is doing better than fixed internet, especially in terms of availability and upload speeds. Fixed internet, however, has not improved much—it saw a brief increase in download speeds in 2020 and 2021, but that improvement has stopped.\n",
    "\n",
    "While more people have access to the internet, Algeria still has some of the slowest internet speeds in the world. This shows that there is a strong need for more investment in both mobile and fixed internet to catch up with other countries and meet the growing needs of users."
   ]
  }
 ],
 "metadata": {
  "kernelspec": {
   "display_name": "Python 3 (ipykernel)",
   "language": "python",
   "name": "python3"
  },
  "language_info": {
   "codemirror_mode": {
    "name": "ipython",
    "version": 3
   },
   "file_extension": ".py",
   "mimetype": "text/x-python",
   "name": "python",
   "nbconvert_exporter": "python",
   "pygments_lexer": "ipython3",
   "version": "3.11.7"
  }
 },
 "nbformat": 4,
 "nbformat_minor": 5
}

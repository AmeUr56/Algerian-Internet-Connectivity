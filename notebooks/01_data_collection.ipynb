{
 "cells": [
  {
   "cell_type": "markdown",
   "id": "8f745841-8577-401a-bf31-a44eea7eb191",
   "metadata": {},
   "source": [
    "# Data Overview"
   ]
  },
  {
   "cell_type": "markdown",
   "id": "b6d56c1b-7309-4d9e-a858-8628f815aa2a",
   "metadata": {},
   "source": [
    "## Context\r\n",
    "Ookla is the global leader in network intelligence and connectivity insights. The company owns the world-renowned Speedtest platform which is the definitive way to test the speed and performance of your internet connection. Every day, over ten million unique tests are actively initiated by Ookla's users in the locations and at the times when their connectivity matters to them.\r\n",
    "\r\n",
    "Since Speedtest's founding in 2006, an unparalleled total of more than 40 billion tests have been taken with the pform.ng 2020-01-01)"
   ]
  },
  {
   "cell_type": "markdown",
   "id": "57877986-4523-4476-8590-d848e2cac29d",
   "metadata": {},
   "source": [
    "## Content\n",
    "\n",
    "The datasets provide global fixed broadband and mobile (cellular) network performance metrics in zoom level 16 web mercator tiles (approximately 610.8 meters by 610.8 meters at the equator). **Download speed**, **upload speed**, and **latency** are collected via the Speedtest by Ookla applications for Android and iOS and averaged for each tile. Measurements are filtered to results containing GPS-quality location accuracy."
   ]
  },
  {
   "cell_type": "markdown",
   "id": "f93e8190-9ef0-431c-b900-11e25a078369",
   "metadata": {},
   "source": [
    "1. **Name**: Identifies the name of the location, server, or region where the data was collected (e.g., country, city).\n",
    "2. **Number of Records**: The total number of data entries or measurements recorded for the location or server.\n",
    "3. **Devices**: The number of devices involved in the test or contributing to the internet speed data for that location or server.\n",
    "4. **Tests**: The total number of internet speed tests performed in the dataset for the given location or server.\n",
    "5. **Avg. Avg U Kbps**: The average upload speed (in kilobits per second) from all the tests conducted at the given location or server.\n",
    "6. **Avg. Avg D Kbps**: The average download speed (in kilobits per second) from all the tests conducted at the given location or server.\n",
    "7. **Avg Lat Ms**: The average latency (in milliseconds) measured during the tests, indicating how quickly data is transmitted to and from the server.\n",
    "8. **Avg. Pop2005**: Refers to the population estimate from 2005 for the given location or region.\n",
    "9. **Rank Upload**: The rank of the location or server based on upload speeds, with 1 being the highest rank (fastest upload speeds).\n",
    "10. **Rank Download**: The rank of the location or server based on download speeds, with 1 being the highest rank (fastest download speeds)."
   ]
  },
  {
   "cell_type": "markdown",
   "id": "2196d210-ea6b-44e5-9782-da7eea757174",
   "metadata": {},
   "source": [
    "## Source\n",
    "The performance datasets are available via AWS S3 at the s3://ookla-open-data bucket, where individual Parquet time series and compressed Shapefiles are organized by\n",
    "\n",
    "- file format (shapefiles or parquet)\n",
    "- service type (fixed or mobile)\n",
    "- year (2020)\n",
    "- quarter (for example, 1 corresponds to the Q1 period starting 2020-01-01)"
   ]
  },
  {
   "cell_type": "markdown",
   "id": "c0d144c0-6f16-4e56-a2e8-2ffb1878a48d",
   "metadata": {},
   "source": [
    "# Import Libraries"
   ]
  },
  {
   "cell_type": "code",
   "execution_count": 1,
   "id": "99861ff1-df3e-4793-960f-28cdbfdd8ac4",
   "metadata": {},
   "outputs": [],
   "source": [
    "import numpy as np\n",
    "import pandas as pd\n",
    "import requests\n",
    "import os"
   ]
  },
  {
   "cell_type": "code",
   "execution_count": 2,
   "id": "ea3b6e35-0d3a-4a82-bf70-43b081b532b1",
   "metadata": {},
   "outputs": [],
   "source": [
    "from warnings import filterwarnings\n",
    "filterwarnings(action=\"ignore\")"
   ]
  },
  {
   "cell_type": "markdown",
   "id": "6c37bdf1-2fdc-49c5-8376-21b8175f10c5",
   "metadata": {},
   "source": [
    "# Load Data"
   ]
  },
  {
   "cell_type": "code",
   "execution_count": 3,
   "id": "d2196616-cf00-4b5c-b171-ca09350aafcb",
   "metadata": {},
   "outputs": [],
   "source": [
    "# Simple Function to Aggregate Data to one DataFrame \n",
    "def aggregate(csv_files):\n",
    "    df = pd.DataFrame(columns=['Year','Quarter','type','Number of Records', 'Devices', 'Tests', 'Avg. Avg U Kbps',\n",
    "       'Avg. Avg D Kbps', 'Avg Lat Ms', 'Avg. Pop2005', 'Rank Upload',\n",
    "       'Rank Download', 'Rank Latency'])\n",
    "    for csv_file in csv_files:\n",
    "        current_df = pd.read_csv(f\"../data/{csv_file}\")\n",
    "        current_df = current_df[current_df['Name'] == 'Algeria']\n",
    "        current_df.drop(\"Name\",axis=1,inplace=True)\n",
    "\n",
    "        # Extract Infos from the name of the file and Add it to current_df\n",
    "        infos = csv_file.split(\".csv\")[0].split(\"/\")[-1]\n",
    "        current_df['Year'] = infos.split(\"year\")[-1][1:5]\n",
    "        current_df['Quarter'] = infos.split(\"quarter\")[-1][1:]\n",
    "        current_df['type'] = infos.split(\"year\")[0].replace(\"_\",\"\")\n",
    "\n",
    "        if 'Number of Record' in current_df.columns:\n",
    "            current_df.drop('Number of Record', axis=1, inplace=True)\n",
    "                    \n",
    "        df = pd.concat([df,current_df],axis=0)\n",
    "    df = df.reset_index().drop(\"index\",axis=1)\n",
    "    \n",
    "    return df"
   ]
  },
  {
   "cell_type": "code",
   "execution_count": 4,
   "id": "f36bf3f1-22b3-43e6-8112-a3cefc517cee",
   "metadata": {},
   "outputs": [
    {
     "data": {
      "text/html": [
       "<div>\n",
       "<style scoped>\n",
       "    .dataframe tbody tr th:only-of-type {\n",
       "        vertical-align: middle;\n",
       "    }\n",
       "\n",
       "    .dataframe tbody tr th {\n",
       "        vertical-align: top;\n",
       "    }\n",
       "\n",
       "    .dataframe thead th {\n",
       "        text-align: right;\n",
       "    }\n",
       "</style>\n",
       "<table border=\"1\" class=\"dataframe\">\n",
       "  <thead>\n",
       "    <tr style=\"text-align: right;\">\n",
       "      <th></th>\n",
       "      <th>Year</th>\n",
       "      <th>Quarter</th>\n",
       "      <th>type</th>\n",
       "      <th>Number of Records</th>\n",
       "      <th>Devices</th>\n",
       "      <th>Tests</th>\n",
       "      <th>Avg. Avg U Kbps</th>\n",
       "      <th>Avg. Avg D Kbps</th>\n",
       "      <th>Avg Lat Ms</th>\n",
       "      <th>Avg. Pop2005</th>\n",
       "      <th>Rank Upload</th>\n",
       "      <th>Rank Download</th>\n",
       "      <th>Rank Latency</th>\n",
       "    </tr>\n",
       "  </thead>\n",
       "  <tbody>\n",
       "    <tr>\n",
       "      <th>0</th>\n",
       "      <td>2020</td>\n",
       "      <td>01</td>\n",
       "      <td>fixed</td>\n",
       "      <td>11,913</td>\n",
       "      <td>39,923</td>\n",
       "      <td>170,080</td>\n",
       "      <td>1,368</td>\n",
       "      <td>3,492</td>\n",
       "      <td>61</td>\n",
       "      <td>32,854,159</td>\n",
       "      <td>230</td>\n",
       "      <td>227</td>\n",
       "      <td>60</td>\n",
       "    </tr>\n",
       "    <tr>\n",
       "      <th>1</th>\n",
       "      <td>2020</td>\n",
       "      <td>02</td>\n",
       "      <td>fixed</td>\n",
       "      <td>12,220</td>\n",
       "      <td>39,516</td>\n",
       "      <td>194,803</td>\n",
       "      <td>991</td>\n",
       "      <td>3,130</td>\n",
       "      <td>55</td>\n",
       "      <td>32,854,159</td>\n",
       "      <td>234</td>\n",
       "      <td>228</td>\n",
       "      <td>73</td>\n",
       "    </tr>\n",
       "    <tr>\n",
       "      <th>2</th>\n",
       "      <td>2020</td>\n",
       "      <td>03</td>\n",
       "      <td>fixed</td>\n",
       "      <td>12,760</td>\n",
       "      <td>45,257</td>\n",
       "      <td>215,847</td>\n",
       "      <td>1,083</td>\n",
       "      <td>3,934</td>\n",
       "      <td>47</td>\n",
       "      <td>32,854,159</td>\n",
       "      <td>232</td>\n",
       "      <td>225</td>\n",
       "      <td>70</td>\n",
       "    </tr>\n",
       "    <tr>\n",
       "      <th>3</th>\n",
       "      <td>2020</td>\n",
       "      <td>04</td>\n",
       "      <td>fixed</td>\n",
       "      <td>12,163</td>\n",
       "      <td>40,447</td>\n",
       "      <td>180,785</td>\n",
       "      <td>1,395</td>\n",
       "      <td>4,512</td>\n",
       "      <td>49</td>\n",
       "      <td>32,854,159</td>\n",
       "      <td>232</td>\n",
       "      <td>225</td>\n",
       "      <td>64</td>\n",
       "    </tr>\n",
       "    <tr>\n",
       "      <th>4</th>\n",
       "      <td>2021</td>\n",
       "      <td>01</td>\n",
       "      <td>fixed</td>\n",
       "      <td>14,053</td>\n",
       "      <td>54,011</td>\n",
       "      <td>261,733</td>\n",
       "      <td>1,235</td>\n",
       "      <td>4,939</td>\n",
       "      <td>46</td>\n",
       "      <td>32,854,159</td>\n",
       "      <td>233</td>\n",
       "      <td>224</td>\n",
       "      <td>69</td>\n",
       "    </tr>\n",
       "  </tbody>\n",
       "</table>\n",
       "</div>"
      ],
      "text/plain": [
       "   Year Quarter   type Number of Records Devices    Tests Avg. Avg U Kbps  \\\n",
       "0  2020      01  fixed            11,913  39,923  170,080           1,368   \n",
       "1  2020      02  fixed            12,220  39,516  194,803             991   \n",
       "2  2020      03  fixed            12,760  45,257  215,847           1,083   \n",
       "3  2020      04  fixed            12,163  40,447  180,785           1,395   \n",
       "4  2021      01  fixed            14,053  54,011  261,733           1,235   \n",
       "\n",
       "  Avg. Avg D Kbps Avg Lat Ms Avg. Pop2005 Rank Upload Rank Download  \\\n",
       "0           3,492         61   32,854,159         230           227   \n",
       "1           3,130         55   32,854,159         234           228   \n",
       "2           3,934         47   32,854,159         232           225   \n",
       "3           4,512         49   32,854,159         232           225   \n",
       "4           4,939         46   32,854,159         233           224   \n",
       "\n",
       "  Rank Latency  \n",
       "0           60  \n",
       "1           73  \n",
       "2           70  \n",
       "3           64  \n",
       "4           69  "
      ]
     },
     "execution_count": 4,
     "metadata": {},
     "output_type": "execute_result"
    }
   ],
   "source": [
    "# Loaded Data\n",
    "data = aggregate(os.listdir(\"../data\"))\n",
    "data.head()"
   ]
  },
  {
   "cell_type": "code",
   "execution_count": 5,
   "id": "cbd4a01c-d395-47f2-97d6-8a83ce1fd7b9",
   "metadata": {},
   "outputs": [],
   "source": [
    "# Rename columns\n",
    "data.rename(columns={\n",
    "    'Number of Records':'NumberRecords',\n",
    "    'Avg. Avg U Kbps': 'Avg_Avg_U_Kbps',\n",
    "    'Avg. Avg D Kbps': 'Avg_Avg_D_Kbps',\n",
    "    'Avg Lat Ms': 'Avg_Lat_Ms',\n",
    "    'Avg. Pop2005': 'Avg_Pop2005',\n",
    "    'Rank Upload': 'Rank_Upload',\n",
    "    'Rank Download': 'Rank_Download',\n",
    "    'Rank Latency': 'Rank_Latency',\n",
    "},inplace=True)"
   ]
  },
  {
   "cell_type": "code",
   "execution_count": 6,
   "id": "db75eb71-795f-4a4c-a7ec-5475f7aad99a",
   "metadata": {},
   "outputs": [],
   "source": [
    "# Sanitize float values (replace NaN, Infinity, -Infinity)\n",
    "def sanitize_float(value):\n",
    "    if isinstance(value, float):\n",
    "        if value != value or value in [float('inf'), float('-inf')]:  # Check NaN or Inf\n",
    "            return \"\"\n",
    "    return value if value is not None else \"\"\n",
    "\n",
    "for col in data.columns:\n",
    "    data[col] = data[col].apply(sanitize_float)"
   ]
  },
  {
   "cell_type": "code",
   "execution_count": 7,
   "id": "8427947a-b94d-4f20-a309-83245a03c995",
   "metadata": {},
   "outputs": [
    {
     "data": {
      "text/plain": [
       "Year              object\n",
       "Quarter           object\n",
       "type              object\n",
       "NumberRecords     object\n",
       "Devices           object\n",
       "Tests             object\n",
       "Avg_Avg_U_Kbps    object\n",
       "Avg_Avg_D_Kbps    object\n",
       "Avg_Lat_Ms        object\n",
       "Avg_Pop2005       object\n",
       "Rank_Upload        int64\n",
       "Rank_Download      int64\n",
       "Rank_Latency       int64\n",
       "dtype: object"
      ]
     },
     "execution_count": 7,
     "metadata": {},
     "output_type": "execute_result"
    }
   ],
   "source": [
    "# Columns Data Types\n",
    "data.dtypes"
   ]
  },
  {
   "cell_type": "code",
   "execution_count": 8,
   "id": "68637021-4f8f-4f45-93b6-731b6b16f3d6",
   "metadata": {},
   "outputs": [],
   "source": [
    "# Convert Each Column to each appropriate type\n",
    "numerical_cols = [\"Year\",\"Quarter\",\"Devices\",\"Tests\",\"Avg_Avg_U_Kbps\",\"Avg_Avg_D_Kbps\",\"Avg_Lat_Ms\",\"Avg_Pop2005\"]\n",
    "for col in numerical_cols:\n",
    "    data[col] = data[col].apply(lambda X: str(X).replace(\",\",\"\").replace(\",\",\"\")).astype(int)"
   ]
  },
  {
   "cell_type": "markdown",
   "id": "5c554445-d714-4b5f-ba64-941331dcc4ac",
   "metadata": {},
   "source": [
    "# Basic infos about the dataset"
   ]
  },
  {
   "cell_type": "code",
   "execution_count": 9,
   "id": "bf91b3cc-ca0b-4521-8ab8-bee139763d60",
   "metadata": {},
   "outputs": [
    {
     "name": "stdout",
     "output_type": "stream",
     "text": [
      "Dataset's memory size: 1.716 KB\n"
     ]
    }
   ],
   "source": [
    "# Memory Usage in megabytes\n",
    "print(f\"Dataset's memory size: {data.memory_usage().sum()/1e3:.3f} KB\")"
   ]
  },
  {
   "cell_type": "code",
   "execution_count": 10,
   "id": "888cc2ba-f701-4bd7-9c47-daa00244ef53",
   "metadata": {},
   "outputs": [
    {
     "name": "stdout",
     "output_type": "stream",
     "text": [
      "Number of Columns(Features/Attributes): 13\n",
      "Number of Rows(observations): 22\n",
      "Size: 286\n"
     ]
    }
   ],
   "source": [
    "# Dataset's Shape & Size\n",
    "print(f\"Number of Columns(Features/Attributes): {data.shape[1]}\")\n",
    "print(f\"Number of Rows(observations): {data.shape[0]}\")\n",
    "\n",
    "print(f\"Size: {data.size}\")"
   ]
  },
  {
   "cell_type": "code",
   "execution_count": 11,
   "id": "ee141a7a-1d9f-4273-9297-c33902c36189",
   "metadata": {},
   "outputs": [
    {
     "name": "stdout",
     "output_type": "stream",
     "text": [
      "<class 'pandas.core.frame.DataFrame'>\n",
      "RangeIndex: 22 entries, 0 to 21\n",
      "Data columns (total 13 columns):\n",
      " #   Column          Non-Null Count  Dtype \n",
      "---  ------          --------------  ----- \n",
      " 0   Year            22 non-null     int32 \n",
      " 1   Quarter         22 non-null     int32 \n",
      " 2   type            22 non-null     object\n",
      " 3   NumberRecords   22 non-null     object\n",
      " 4   Devices         22 non-null     int32 \n",
      " 5   Tests           22 non-null     int32 \n",
      " 6   Avg_Avg_U_Kbps  22 non-null     int32 \n",
      " 7   Avg_Avg_D_Kbps  22 non-null     int32 \n",
      " 8   Avg_Lat_Ms      22 non-null     int32 \n",
      " 9   Avg_Pop2005     22 non-null     int32 \n",
      " 10  Rank_Upload     22 non-null     int64 \n",
      " 11  Rank_Download   22 non-null     int64 \n",
      " 12  Rank_Latency    22 non-null     int64 \n",
      "dtypes: int32(8), int64(3), object(2)\n",
      "memory usage: 1.7+ KB\n",
      "None\n"
     ]
    }
   ],
   "source": [
    "# Columns - Number of Non Nulls and Data types\n",
    "print(data.info())"
   ]
  },
  {
   "cell_type": "markdown",
   "id": "04252ef8-8dda-4dd0-b0d7-6821f548758f",
   "metadata": {},
   "source": [
    "# Upload Raw Data to the API"
   ]
  },
  {
   "cell_type": "code",
   "execution_count": 12,
   "id": "0a3756bf-f101-45e1-bb95-856853b20dc3",
   "metadata": {},
   "outputs": [
    {
     "data": {
      "text/plain": [
       "200"
      ]
     },
     "execution_count": 12,
     "metadata": {},
     "output_type": "execute_result"
    }
   ],
   "source": [
    "upload_url = \"http://127.0.0.1:8000/upload/raw\"\n",
    "response = requests.post(upload_url,json={\"content\": data.to_dict(orient=\"records\")})\n",
    "response.status_code"
   ]
  },
  {
   "cell_type": "code",
   "execution_count": 13,
   "id": "ad345161-a211-44e4-a9ed-1cb34006d4f4",
   "metadata": {},
   "outputs": [
    {
     "data": {
      "text/plain": [
       "{'detail': 'Upload Data Successfully'}"
      ]
     },
     "execution_count": 13,
     "metadata": {},
     "output_type": "execute_result"
    }
   ],
   "source": [
    "response.json()"
   ]
  }
 ],
 "metadata": {
  "kernelspec": {
   "display_name": "Python 3 (ipykernel)",
   "language": "python",
   "name": "python3"
  },
  "language_info": {
   "codemirror_mode": {
    "name": "ipython",
    "version": 3
   },
   "file_extension": ".py",
   "mimetype": "text/x-python",
   "name": "python",
   "nbconvert_exporter": "python",
   "pygments_lexer": "ipython3",
   "version": "3.11.7"
  }
 },
 "nbformat": 4,
 "nbformat_minor": 5
}

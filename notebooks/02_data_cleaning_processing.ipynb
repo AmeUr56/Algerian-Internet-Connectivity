{
 "cells": [
  {
   "cell_type": "code",
   "execution_count": 1,
   "id": "7e834b1b-0e40-4008-bc59-9e58f05d9e69",
   "metadata": {},
   "outputs": [],
   "source": [
    "import numpy as np\n",
    "import pandas as pd\n",
    "\n",
    "import requests"
   ]
  },
  {
   "cell_type": "code",
   "execution_count": 2,
   "id": "4c62a100-f600-4ce4-aacc-c2c75e02944d",
   "metadata": {},
   "outputs": [],
   "source": [
    "from warnings import filterwarnings\n",
    "filterwarnings(\"ignore\")"
   ]
  },
  {
   "cell_type": "markdown",
   "id": "cdf30ce5-cfe6-40d9-bcd2-7dd273da45bb",
   "metadata": {},
   "source": [
    "# Download Raw Data from the API"
   ]
  },
  {
   "cell_type": "code",
   "execution_count": 3,
   "id": "c4b40d30-0413-4cb4-b2a2-a589243e5d46",
   "metadata": {},
   "outputs": [
    {
     "data": {
      "text/plain": [
       "200"
      ]
     },
     "execution_count": 3,
     "metadata": {},
     "output_type": "execute_result"
    }
   ],
   "source": [
    "download_url = \"http://127.0.0.1:8000/download/raw\"\n",
    "response = requests.get(download_url)\n",
    "response.status_code"
   ]
  },
  {
   "cell_type": "code",
   "execution_count": 4,
   "id": "e604f36a-6d07-422e-ba30-724ab68a4c91",
   "metadata": {},
   "outputs": [
    {
     "data": {
      "text/html": [
       "<div>\n",
       "<style scoped>\n",
       "    .dataframe tbody tr th:only-of-type {\n",
       "        vertical-align: middle;\n",
       "    }\n",
       "\n",
       "    .dataframe tbody tr th {\n",
       "        vertical-align: top;\n",
       "    }\n",
       "\n",
       "    .dataframe thead th {\n",
       "        text-align: right;\n",
       "    }\n",
       "</style>\n",
       "<table border=\"1\" class=\"dataframe\">\n",
       "  <thead>\n",
       "    <tr style=\"text-align: right;\">\n",
       "      <th></th>\n",
       "      <th>Year</th>\n",
       "      <th>Quarter</th>\n",
       "      <th>type</th>\n",
       "      <th>NumberRecords</th>\n",
       "      <th>Devices</th>\n",
       "      <th>Tests</th>\n",
       "      <th>Avg_Avg_U_Kbps</th>\n",
       "      <th>Avg_Avg_D_Kbps</th>\n",
       "      <th>Avg_Lat_Ms</th>\n",
       "      <th>Avg_Pop2005</th>\n",
       "      <th>Rank_Upload</th>\n",
       "      <th>Rank_Download</th>\n",
       "      <th>Rank_Latency</th>\n",
       "    </tr>\n",
       "  </thead>\n",
       "  <tbody>\n",
       "    <tr>\n",
       "      <th>0</th>\n",
       "      <td>2020</td>\n",
       "      <td>1</td>\n",
       "      <td>fixed</td>\n",
       "      <td>11,913</td>\n",
       "      <td>39923</td>\n",
       "      <td>170080</td>\n",
       "      <td>1368</td>\n",
       "      <td>3492</td>\n",
       "      <td>61</td>\n",
       "      <td>32854159</td>\n",
       "      <td>230</td>\n",
       "      <td>227</td>\n",
       "      <td>60</td>\n",
       "    </tr>\n",
       "    <tr>\n",
       "      <th>1</th>\n",
       "      <td>2020</td>\n",
       "      <td>2</td>\n",
       "      <td>fixed</td>\n",
       "      <td>12,220</td>\n",
       "      <td>39516</td>\n",
       "      <td>194803</td>\n",
       "      <td>991</td>\n",
       "      <td>3130</td>\n",
       "      <td>55</td>\n",
       "      <td>32854159</td>\n",
       "      <td>234</td>\n",
       "      <td>228</td>\n",
       "      <td>73</td>\n",
       "    </tr>\n",
       "  </tbody>\n",
       "</table>\n",
       "</div>"
      ],
      "text/plain": [
       "   Year  Quarter   type NumberRecords  Devices   Tests  Avg_Avg_U_Kbps  \\\n",
       "0  2020        1  fixed        11,913    39923  170080            1368   \n",
       "1  2020        2  fixed        12,220    39516  194803             991   \n",
       "\n",
       "   Avg_Avg_D_Kbps  Avg_Lat_Ms  Avg_Pop2005  Rank_Upload  Rank_Download  \\\n",
       "0            3492          61     32854159          230            227   \n",
       "1            3130          55     32854159          234            228   \n",
       "\n",
       "   Rank_Latency  \n",
       "0            60  \n",
       "1            73  "
      ]
     },
     "execution_count": 4,
     "metadata": {},
     "output_type": "execute_result"
    }
   ],
   "source": [
    "data = pd.DataFrame(response.json())\n",
    "data.head(2)"
   ]
  },
  {
   "cell_type": "code",
   "execution_count": 5,
   "id": "ee315943-ca60-4117-83ff-78309569427c",
   "metadata": {},
   "outputs": [],
   "source": [
    "# Desatinize the None values\n",
    "for col in data.columns:\n",
    "    data[col] = data[col].apply(lambda X: None if '' == X else X)"
   ]
  },
  {
   "cell_type": "markdown",
   "id": "618941f9-9ac5-4c4d-9734-5eeb3b781068",
   "metadata": {},
   "source": [
    "# Feature Selection"
   ]
  },
  {
   "cell_type": "markdown",
   "id": "c81a8514-c911-42cd-b4f4-5283aa05bf51",
   "metadata": {},
   "source": [
    "**Avg_Pop2005** and **NumberRecords** not necessary for this analysis."
   ]
  },
  {
   "cell_type": "code",
   "execution_count": 6,
   "id": "0c7f2056-860c-49de-bf09-b7624eab0e55",
   "metadata": {},
   "outputs": [],
   "source": [
    "data.drop(columns=[\"Avg_Pop2005\",\"NumberRecords\"],inplace=True)"
   ]
  },
  {
   "cell_type": "markdown",
   "id": "2ef810c4-3a17-45e8-bc1f-6be3fc42b881",
   "metadata": {},
   "source": [
    "# Handling Missing Values"
   ]
  },
  {
   "cell_type": "code",
   "execution_count": 7,
   "id": "30a4774d-cbbd-4e23-b34f-ed3b618b3f70",
   "metadata": {},
   "outputs": [
    {
     "data": {
      "text/plain": [
       "Year              0\n",
       "Quarter           0\n",
       "type              0\n",
       "Devices           0\n",
       "Tests             0\n",
       "Avg_Avg_U_Kbps    0\n",
       "Avg_Avg_D_Kbps    0\n",
       "Avg_Lat_Ms        0\n",
       "Rank_Upload       0\n",
       "Rank_Download     0\n",
       "Rank_Latency      0\n",
       "dtype: int64"
      ]
     },
     "execution_count": 7,
     "metadata": {},
     "output_type": "execute_result"
    }
   ],
   "source": [
    "data.isnull().sum()"
   ]
  },
  {
   "cell_type": "markdown",
   "id": "e939c5cd-d926-4503-9d74-46b4ee7d1797",
   "metadata": {},
   "source": [
    "Data is **cleaned**."
   ]
  },
  {
   "cell_type": "markdown",
   "id": "ca9da519-193e-4652-a440-e505020ecc2d",
   "metadata": {},
   "source": [
    "# Handling Duplicates"
   ]
  },
  {
   "cell_type": "code",
   "execution_count": 8,
   "id": "80e64f1d-33bc-4b45-8107-673b1d87d3a7",
   "metadata": {},
   "outputs": [
    {
     "data": {
      "text/plain": [
       "array([False])"
      ]
     },
     "execution_count": 8,
     "metadata": {},
     "output_type": "execute_result"
    }
   ],
   "source": [
    "data.duplicated().unique()"
   ]
  },
  {
   "cell_type": "markdown",
   "id": "f738898c-3438-4d70-a722-a3d60da29862",
   "metadata": {},
   "source": [
    "Not duplicates in the Data."
   ]
  },
  {
   "cell_type": "markdown",
   "id": "1a6c002e-bd8b-4bb7-862e-4126138d682f",
   "metadata": {},
   "source": [
    "# Feature Engineering"
   ]
  },
  {
   "cell_type": "code",
   "execution_count": 10,
   "id": "e5b6709f-509a-4441-aadc-53695a209c10",
   "metadata": {},
   "outputs": [],
   "source": [
    "data['UploadtoDownloadRatio'] = np.where(data.Avg_Avg_D_Kbps != 0,data.Avg_Avg_U_Kbps / data.Avg_Avg_D_Kbps,0)"
   ]
  },
  {
   "cell_type": "code",
   "execution_count": 17,
   "id": "f49202ae-5e2f-45e9-a16d-b2cf8877a563",
   "metadata": {},
   "outputs": [],
   "source": [
    "data['Year/Quarter'] = data['Year'].astype(str) + \"/\" + data['Quarter'].astype(str)"
   ]
  },
  {
   "cell_type": "markdown",
   "id": "6f2b184d-25d6-4678-81d4-28da7cc5de1a",
   "metadata": {},
   "source": [
    "# Upload the Processed Data to the API"
   ]
  },
  {
   "cell_type": "code",
   "execution_count": 18,
   "id": "62cd68e0-bf07-4cef-9f6c-c339c8e31002",
   "metadata": {},
   "outputs": [
    {
     "data": {
      "text/plain": [
       "200"
      ]
     },
     "execution_count": 18,
     "metadata": {},
     "output_type": "execute_result"
    }
   ],
   "source": [
    "upload_url = \"http://127.0.0.1:8000/upload/processed\"\n",
    "response = requests.post(upload_url,json={\"content\": data.to_dict(orient=\"records\")})\n",
    "response.status_code"
   ]
  },
  {
   "cell_type": "code",
   "execution_count": 19,
   "id": "a01b43a2-8763-4e00-aa7e-c20447d73c4a",
   "metadata": {},
   "outputs": [
    {
     "data": {
      "text/plain": [
       "'{\"detail\":\"Upload Data Successfully\"}'"
      ]
     },
     "execution_count": 19,
     "metadata": {},
     "output_type": "execute_result"
    }
   ],
   "source": [
    "response.text"
   ]
  }
 ],
 "metadata": {
  "kernelspec": {
   "display_name": "Python 3 (ipykernel)",
   "language": "python",
   "name": "python3"
  },
  "language_info": {
   "codemirror_mode": {
    "name": "ipython",
    "version": 3
   },
   "file_extension": ".py",
   "mimetype": "text/x-python",
   "name": "python",
   "nbconvert_exporter": "python",
   "pygments_lexer": "ipython3",
   "version": "3.11.7"
  }
 },
 "nbformat": 4,
 "nbformat_minor": 5
}
